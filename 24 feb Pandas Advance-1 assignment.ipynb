{
 "cells": [
  {
   "cell_type": "code",
   "execution_count": null,
   "id": "76cb39f3-c659-432f-8593-216bed177418",
   "metadata": {},
   "outputs": [],
   "source": [
    "Q1. List any five functions of the pandas library with execution."
   ]
  },
  {
   "cell_type": "code",
   "execution_count": null,
   "id": "46558f88-b795-4a83-8b76-8afe54373113",
   "metadata": {},
   "outputs": [],
   "source": [
    "pd.read_csv(): This function is used to read data from a CSV (Comma-Separated Values) file and create a Pandas DataFrame."
   ]
  },
  {
   "cell_type": "code",
   "execution_count": null,
   "id": "f08edbf4-e30b-47a2-ae4c-ec2869d9f568",
   "metadata": {},
   "outputs": [],
   "source": [
    "import pandas as pd\n",
    "\n",
    "# Read a CSV file into a DataFrame\n",
    "df = pd.read_csv('data.csv')\n",
    "\n",
    "# Display the first few rows of the DataFrame\n",
    "print(df.head())\n"
   ]
  },
  {
   "cell_type": "code",
   "execution_count": null,
   "id": "30020bf1-2936-4636-8965-d4ff0ce44d45",
   "metadata": {},
   "outputs": [],
   "source": [
    "df.head(): This DataFrame method is used to display the first few rows of a DataFrame (by default, the first five rows)."
   ]
  },
  {
   "cell_type": "code",
   "execution_count": null,
   "id": "7c4f5f4b-def3-4957-bbad-3abb1caae0b0",
   "metadata": {},
   "outputs": [],
   "source": [
    "import pandas as pd\n",
    "\n",
    "# Create a sample DataFrame\n",
    "data = {'Name': ['Alice', 'Bob', 'Charlie', 'David'],\n",
    "        'Age': [25, 30, 35, 28]}\n",
    "df = pd.DataFrame(data)\n",
    "\n",
    "# Display the first two rows of the DataFrame\n",
    "print(df.head(2))\n"
   ]
  },
  {
   "cell_type": "code",
   "execution_count": null,
   "id": "903aad0b-cd3f-4550-b054-2f0ebe66c8c5",
   "metadata": {},
   "outputs": [],
   "source": [
    "df.describe(): This DataFrame method generates summary statistics of numeric columns in the DataFrame, such as count, mean, standard deviation, minimum, and maximum."
   ]
  },
  {
   "cell_type": "code",
   "execution_count": null,
   "id": "20eeb692-44f9-4573-b772-c6dc1e193f11",
   "metadata": {},
   "outputs": [],
   "source": [
    "import pandas as pd\n",
    "\n",
    "# Create a sample DataFrame\n",
    "data = {'Age': [25, 30, 35, 28, 22]}\n",
    "df = pd.DataFrame(data)\n",
    "\n",
    "# Generate summary statistics\n",
    "print(df.describe())\n"
   ]
  },
  {
   "cell_type": "code",
   "execution_count": null,
   "id": "25f15942-53b3-42df-bee6-b59417518945",
   "metadata": {},
   "outputs": [],
   "source": [
    "df.groupby(): This method is used to group data in a DataFrame based on a specific column and perform aggregation operations on the grouped data."
   ]
  },
  {
   "cell_type": "code",
   "execution_count": null,
   "id": "357ed83d-0702-4da8-abd3-6c1e91681218",
   "metadata": {},
   "outputs": [],
   "source": [
    "import pandas as pd\n",
    "\n",
    "# Create a sample DataFrame\n",
    "data = {'Category': ['A', 'B', 'A', 'B', 'A'],\n",
    "        'Value': [10, 15, 20, 25, 30]}\n",
    "df = pd.DataFrame(data)\n",
    "\n",
    "# Group by 'Category' and calculate the mean of 'Value' for each group\n",
    "grouped_df = df.groupby('Category')['Value'].mean()\n",
    "print(grouped_df)\n"
   ]
  },
  {
   "cell_type": "code",
   "execution_count": null,
   "id": "183e12b4-d721-4381-abfc-cd79d2f2b22e",
   "metadata": {},
   "outputs": [],
   "source": [
    "df.to_csv(): This DataFrame method is used to write a DataFrame to a CSV file"
   ]
  },
  {
   "cell_type": "code",
   "execution_count": null,
   "id": "d9000861-1e12-4345-bc04-52f7169d6bb8",
   "metadata": {},
   "outputs": [],
   "source": [
    "import pandas as pd\n",
    "\n",
    "# Create a sample DataFrame\n",
    "data = {'Name': ['Alice', 'Bob', 'Charlie', 'David'],\n",
    "        'Age': [25, 30, 35, 28]}\n",
    "df = pd.DataFrame(data)\n",
    "\n",
    "# Write the DataFrame to a CSV file\n",
    "df.to_csv('output.csv', index=False)\n"
   ]
  },
  {
   "cell_type": "code",
   "execution_count": null,
   "id": "db49c8b5-1b8a-4a89-bb0b-ae96bc4d3fee",
   "metadata": {},
   "outputs": [],
   "source": [
    "These are just a few of the many functions and methods available in Pandas for data manipulation, analysis, and visualization. Pandas provides a comprehensive set of tools for working with tabular data efficiently."
   ]
  },
  {
   "cell_type": "code",
   "execution_count": null,
   "id": "b25e0c07-e10a-4c57-85b4-4fbb998415f2",
   "metadata": {},
   "outputs": [],
   "source": [
    "Q2. Given a Pandas DataFrame df with columns 'A', 'B', and 'C', write a Python function to re-index the\n",
    "DataFrame with a new index that starts from 1 and increments by 2 for each row."
   ]
  },
  {
   "cell_type": "code",
   "execution_count": null,
   "id": "1896d00d-0d28-47f0-abd6-6beed9c6d737",
   "metadata": {},
   "outputs": [],
   "source": [
    "You can re-index a Pandas DataFrame with a custom index that starts from 1 and increments by 2 for each row using the following Python function:"
   ]
  },
  {
   "cell_type": "code",
   "execution_count": 2,
   "id": "4fae0585-e661-4490-bd9b-2a7c2aa09088",
   "metadata": {},
   "outputs": [
    {
     "name": "stdout",
     "output_type": "stream",
     "text": [
      "      A     B     C\n",
      "1  20.0  50.0  80.0\n",
      "3   NaN   NaN   NaN\n",
      "5   NaN   NaN   NaN\n"
     ]
    }
   ],
   "source": [
    "import pandas as pd\n",
    "\n",
    "def reindex_dataframe(df):\n",
    "    # Create a new index using a range that starts from 1 and increments by 2\n",
    "    new_index = pd.RangeIndex(start=1, stop=len(df) * 2, step=2)\n",
    "    \n",
    "    # Re-index the DataFrame\n",
    "    df = df.reindex(new_index)\n",
    "    \n",
    "    return df\n",
    "\n",
    "# Example DataFrame\n",
    "data = {'A': [10, 20, 30],\n",
    "        'B': [40, 50, 60],\n",
    "        'C': [70, 80, 90]}\n",
    "df = pd.DataFrame(data)\n",
    "\n",
    "# Re-index the DataFrame\n",
    "df = reindex_dataframe(df)\n",
    "\n",
    "# Print the re-indexed DataFrame\n",
    "print(df)\n"
   ]
  },
  {
   "cell_type": "code",
   "execution_count": null,
   "id": "948fa202-5a13-4adf-8c3d-355a369ea4e8",
   "metadata": {},
   "outputs": [],
   "source": [
    "Q3. You have a Pandas DataFrame df with a column named 'Values'. Write a Python function that\n",
    "iterates over the DataFrame and calculates the sum of the first three values in the 'Values' column. The\n",
    "function should print the sum to the console."
   ]
  },
  {
   "cell_type": "code",
   "execution_count": null,
   "id": "5857ade6-be83-493e-825d-c447c462ecfb",
   "metadata": {},
   "outputs": [],
   "source": [
    "You can create a Python function to iterate over a Pandas DataFrame and calculate the sum of the first three values in the 'Values' column as follows:"
   ]
  },
  {
   "cell_type": "code",
   "execution_count": 3,
   "id": "6a3d6814-b3a6-4b48-9de3-acd58508deeb",
   "metadata": {},
   "outputs": [
    {
     "name": "stdout",
     "output_type": "stream",
     "text": [
      "Sum of the first three values in 'Values' column: 60\n"
     ]
    }
   ],
   "source": [
    "import pandas as pd\n",
    "\n",
    "def calculate_sum_of_first_three(df):\n",
    "    # Check if the 'Values' column exists in the DataFrame\n",
    "    if 'Values' in df.columns:\n",
    "        # Extract the 'Values' column and calculate the sum of the first three values\n",
    "        values_column = df['Values']\n",
    "        sum_of_first_three = values_column.head(3).sum()\n",
    "        \n",
    "        # Print the sum to the console\n",
    "        print(\"Sum of the first three values in 'Values' column:\", sum_of_first_three)\n",
    "    else:\n",
    "        print(\"The 'Values' column does not exist in the DataFrame.\")\n",
    "\n",
    "# Example DataFrame\n",
    "data = {'Values': [10, 20, 30, 40, 50]}\n",
    "df = pd.DataFrame(data)\n",
    "\n",
    "# Call the function to calculate the sum of the first three values\n",
    "calculate_sum_of_first_three(df)\n"
   ]
  },
  {
   "cell_type": "code",
   "execution_count": null,
   "id": "fe9afe19-ad20-4eb1-bc5c-fcc0ffcae47b",
   "metadata": {},
   "outputs": [],
   "source": [
    "In this function:\n",
    "\n",
    "We first check if the 'Values' column exists in the DataFrame using if 'Values' in df.columns. If it exists, we proceed with the calculation; otherwise, we print a message indicating that the column does not exist.\n",
    "\n",
    "We extract the 'Values' column using df['Values'].\n",
    "\n",
    "We use .head(3) to select the first three values in the column.\n",
    "\n",
    "We calculate the sum of these three values using .sum().\n",
    "\n",
    "Finally, we print the sum to the console.\n",
    "\n",
    "In the provided example, the function is called with a sample DataFrame, and it calculates and prints the sum of the first three values in the 'Values' column:"
   ]
  },
  {
   "cell_type": "code",
   "execution_count": null,
   "id": "ccc505e0-27cc-4f40-89ec-d7b194055bb4",
   "metadata": {},
   "outputs": [],
   "source": [
    "Q4. Given a Pandas DataFrame df with a column 'Text', write a Python function to create a new column\n",
    "'Word_Count' that contains the number of words in each row of the 'Text' column."
   ]
  },
  {
   "cell_type": "code",
   "execution_count": null,
   "id": "d9cb32ea-b4b2-41e4-aeb5-92b2105d9f4a",
   "metadata": {},
   "outputs": [],
   "source": [
    "You can create a Python function to add a new column 'Word_Count' to a Pandas DataFrame that contains the number of words in each row of the 'Text' column. Here's how you can do it:"
   ]
  },
  {
   "cell_type": "code",
   "execution_count": 4,
   "id": "ae6edf13-1760-44d2-8d9b-9d5eacf50461",
   "metadata": {},
   "outputs": [
    {
     "name": "stdout",
     "output_type": "stream",
     "text": [
      "                               Text  Word_Count\n",
      "0        This is a sample sentence.           5\n",
      "1  Another example with more words.           5\n",
      "2                       Short text.           2\n"
     ]
    }
   ],
   "source": [
    "import pandas as pd\n",
    "\n",
    "def add_word_count_column(df):\n",
    "    # Split the 'Text' column into words and count the number of words in each row\n",
    "    df['Word_Count'] = df['Text'].apply(lambda x: len(str(x).split()))\n",
    "\n",
    "# Example DataFrame\n",
    "data = {'Text': [\"This is a sample sentence.\",\n",
    "                 \"Another example with more words.\",\n",
    "                 \"Short text.\"]}\n",
    "\n",
    "df = pd.DataFrame(data)\n",
    "\n",
    "# Call the function to add the 'Word_Count' column\n",
    "add_word_count_column(df)\n",
    "\n",
    "# Print the DataFrame with the new column\n",
    "print(df)\n"
   ]
  },
  {
   "cell_type": "code",
   "execution_count": null,
   "id": "5ab1cc59-1a22-4dea-8f70-a1fbd8559b09",
   "metadata": {},
   "outputs": [],
   "source": [
    "In this function:\n",
    "\n",
    "We use the apply() method on the 'Text' column to apply a lambda function to each row.\n",
    "\n",
    "Inside the lambda function, we use str(x).split() to split the text into words (assuming words are separated by spaces) and then use len() to count the number of words.\n",
    "\n",
    "We assign the result to a new column 'Word_Count' in the DataFrame.\n",
    "\n",
    "When you call the function and print the DataFrame, you'll see the original 'Text' column and the newly added 'Word_Count' column."
   ]
  },
  {
   "cell_type": "code",
   "execution_count": null,
   "id": "798e5f8f-aafc-4d10-9ab1-b1b58e5699fa",
   "metadata": {},
   "outputs": [],
   "source": [
    "Q5. How are DataFrame.size() and DataFrame.shape() different?"
   ]
  },
  {
   "cell_type": "code",
   "execution_count": null,
   "id": "8db170be-db2f-40fe-ad04-4599c28bca83",
   "metadata": {},
   "outputs": [],
   "source": [
    "In Pandas, DataFrame.size and DataFrame.shape are attributes that provide information about the dimensions and size of a DataFrame, but they serve slightly different purposes:\n",
    "\n",
    "DataFrame.size:\n",
    "\n",
    "DataFrame.size returns the total number of elements in the DataFrame, which is equivalent to the product of the number of rows and the number of columns.\n",
    "It provides the total count of data points in the DataFrame, including both non-null and null (NaN) values.\n",
    "Example:"
   ]
  },
  {
   "cell_type": "code",
   "execution_count": 5,
   "id": "b09afe65-011e-4a1f-b189-77738844b418",
   "metadata": {},
   "outputs": [],
   "source": [
    "import pandas as pd\n",
    "\n",
    "data = {'A': [1, 2, 3], 'B': [4, 5, 6]}\n",
    "df = pd.DataFrame(data)\n",
    "\n",
    "size = df.size  # Returns 6 (2 columns x 3 rows = 6 elements)\n"
   ]
  },
  {
   "cell_type": "code",
   "execution_count": null,
   "id": "3b6bd421-1826-4095-9ca6-6521f1ca11fc",
   "metadata": {},
   "outputs": [],
   "source": [
    "DataFrame.shape:\n",
    "\n",
    "DataFrame.shape returns a tuple that represents the dimensions of the DataFrame, specifically the number of rows and columns.\n",
    "It provides information about the structure of the DataFrame, helping you understand its layout.\n",
    "Example:"
   ]
  },
  {
   "cell_type": "code",
   "execution_count": null,
   "id": "41228967-604b-4549-9b00-61c91eb91dbd",
   "metadata": {},
   "outputs": [],
   "source": [
    "import pandas as pd\n",
    "\n",
    "data = {'A': [1, 2, 3], 'B': [4, 5, 6]}\n",
    "df = pd.DataFrame(data)\n",
    "\n",
    "shape = df.shape  # Returns (3, 2) indicating 3 rows and 2 columns\n"
   ]
  },
  {
   "cell_type": "code",
   "execution_count": null,
   "id": "256c2819-c047-43d6-b901-acb95cae2660",
   "metadata": {},
   "outputs": [],
   "source": [
    "To summarize:\n",
    "\n",
    "DataFrame.size gives you the total count of elements (cells) in the DataFrame.\n",
    "DataFrame.shape gives you a tuple containing the number of rows and columns in the DataFrame.\n",
    "Both attributes are valuable for different purposes. DataFrame.shape is commonly used to understand the DataFrame's dimensions, while DataFrame.size can be useful when you want to know the total count of data points in the DataFrame, which includes non-null values and potentially null (NaN) values"
   ]
  },
  {
   "cell_type": "code",
   "execution_count": null,
   "id": "7e4120df-ab59-4554-8e4b-10dc493c7a72",
   "metadata": {},
   "outputs": [],
   "source": [
    "Q6. Which function of pandas do we use to read an excel file?"
   ]
  },
  {
   "cell_type": "code",
   "execution_count": null,
   "id": "b5a1b1af-3344-4592-8d41-749c89d3972c",
   "metadata": {},
   "outputs": [],
   "source": [
    "In Pandas, you can use the pd.read_excel() function to read data from an Excel file (.xlsx or .xls) into a Pandas DataFrame. This function allows you to import data from Excel spreadsheets and work with it in a tabular format.\n",
    "\n",
    "Here's the basic syntax for using pd.read_excel()"
   ]
  },
  {
   "cell_type": "code",
   "execution_count": null,
   "id": "dac80c51-2d9d-4a39-9442-382fe9b3199d",
   "metadata": {},
   "outputs": [],
   "source": [
    "import pandas as pd\n",
    "\n",
    "# Read an Excel file into a DataFrame\n",
    "df = pd.read_excel('file.xlsx')\n"
   ]
  },
  {
   "cell_type": "code",
   "execution_count": null,
   "id": "045cd903-e647-4df2-b5f6-c794b186871a",
   "metadata": {},
   "outputs": [],
   "source": [
    "In this syntax:\n",
    "\n",
    "'file.xlsx' should be replaced with the path to your Excel file.\n",
    "The function reads the data from the Excel file and creates a DataFrame df containing the data.\n",
    "You can also specify various optional parameters in pd.read_excel() to customize how the Excel file is read, such as specifying a specific sheet name, skipping rows, selecting columns, and more. For example"
   ]
  },
  {
   "cell_type": "code",
   "execution_count": null,
   "id": "bb28e2d3-b7e3-4ca0-becd-e19e19fa16a0",
   "metadata": {},
   "outputs": [],
   "source": [
    "# Read a specific sheet and skip the first row as header\n",
    "df = pd.read_excel('file.xlsx', sheet_name='Sheet1', header=1)\n"
   ]
  },
  {
   "cell_type": "code",
   "execution_count": null,
   "id": "9f6c35d3-2a01-4d4e-85fb-f03bc581e7e8",
   "metadata": {},
   "outputs": [],
   "source": [
    "This would read the data from the 'Sheet1' sheet of the Excel file, treating the first row as the column headers.\n",
    "\n",
    "In summary, pd.read_excel() is the function you use to import data from Excel files into Pandas DataFrames for further analysis and manipulation."
   ]
  },
  {
   "cell_type": "code",
   "execution_count": null,
   "id": "89bd22f4-5516-4952-87a0-090c61801aba",
   "metadata": {},
   "outputs": [],
   "source": [
    "Q7. You have a Pandas DataFrame df that contains a column named 'Email' that contains email\n",
    "addresses in the format 'username@domain.com'. Write a Python function that creates a new column\n",
    "'Username' in df that contains only the username part of each email address."
   ]
  },
  {
   "cell_type": "code",
   "execution_count": null,
   "id": "82a670ac-f042-44ec-b0c3-9345af618cf5",
   "metadata": {},
   "outputs": [],
   "source": [
    "You can create a Python function to extract the username part from email addresses in a Pandas DataFrame and create a new column 'Username'. You can achieve this using the str.split() method to split the email addresses and then selecting the username part. Here's how you can do it:"
   ]
  },
  {
   "cell_type": "code",
   "execution_count": 6,
   "id": "250f9784-6c14-499f-b387-fd6135adb985",
   "metadata": {},
   "outputs": [
    {
     "name": "stdout",
     "output_type": "stream",
     "text": [
      "               Email Username\n",
      "0  user1@example.com    user1\n",
      "1    user2@gmail.com    user2\n",
      "2   user3@domain.com    user3\n"
     ]
    }
   ],
   "source": [
    "import pandas as pd\n",
    "\n",
    "def extract_username(df):\n",
    "    # Use str.split() to split the 'Email' column at the '@' symbol\n",
    "    df['Username'] = df['Email'].str.split('@').str[0]\n",
    "\n",
    "# Example DataFrame\n",
    "data = {'Email': ['user1@example.com', 'user2@gmail.com', 'user3@domain.com']}\n",
    "df = pd.DataFrame(data)\n",
    "\n",
    "# Call the function to extract the username and create the 'Username' column\n",
    "extract_username(df)\n",
    "\n",
    "# Print the DataFrame with the new 'Username' column\n",
    "print(df)\n"
   ]
  },
  {
   "cell_type": "code",
   "execution_count": null,
   "id": "ac74618f-fd86-4fec-9455-08d259a9ca81",
   "metadata": {},
   "outputs": [],
   "source": [
    "We use df['Email'].str.split('@') to split the 'Email' column at the '@' symbol, resulting in a Series of lists where each list contains two elements: the username and the domain.\n",
    "\n",
    "We then use .str[0] to select the first element of each list, which is the username.\n",
    "\n",
    "We assign the extracted usernames to a new column 'Username' in the DataFrame.\n",
    "\n",
    "When you call the function and print the DataFrame, you'll see the original 'Email' column and the newly added 'Username' column:"
   ]
  },
  {
   "cell_type": "code",
   "execution_count": null,
   "id": "73e99079-8b01-4939-9707-7200f562c7a3",
   "metadata": {},
   "outputs": [],
   "source": [
    "Q8. You have a Pandas DataFrame df with columns 'A', 'B', and 'C'. Write a Python function that selects\n",
    "all rows where the value in column 'A' is greater than 5 and the value in column 'B' is less than 10. The\n",
    "function should return a new DataFrame that contains only the selected rows.\n",
    "For example, if df contains the following values:\n",
    "A B C\n",
    "0 3 5 1\n",
    "1 8 2 7\n",
    "2 6 9 4\n",
    "3 2 3 5\n",
    "4 9 1 2\n",
    "\n",
    "Your function should select the following rows: A B C\n",
    "1 8 2 7\n",
    "4 9 1 2\n",
    "The function should return a new DataFrame that contains only the selected rows."
   ]
  },
  {
   "cell_type": "code",
   "execution_count": null,
   "id": "dceba7e7-b11d-4ee1-9e65-9ea375f97310",
   "metadata": {},
   "outputs": [],
   "source": [
    "You can create a Python function to select rows from a Pandas DataFrame where the value in column 'A' is greater than 5 and the value in column 'B' is less than 10. Here's how you can do it:"
   ]
  },
  {
   "cell_type": "code",
   "execution_count": 7,
   "id": "8d411025-8ae9-4994-8689-0cd3f67fab0f",
   "metadata": {},
   "outputs": [
    {
     "name": "stdout",
     "output_type": "stream",
     "text": [
      "   A  B  C\n",
      "1  8  2  7\n",
      "2  6  9  4\n",
      "4  9  1  2\n"
     ]
    }
   ],
   "source": [
    "import pandas as pd\n",
    "\n",
    "def select_rows(df):\n",
    "    # Use boolean indexing to select rows that meet the conditions\n",
    "    selected_rows = df[(df['A'] > 5) & (df['B'] < 10)]\n",
    "    \n",
    "    return selected_rows\n",
    "\n",
    "# Example DataFrame\n",
    "data = {'A': [3, 8, 6, 2, 9],\n",
    "        'B': [5, 2, 9, 3, 1],\n",
    "        'C': [1, 7, 4, 5, 2]}\n",
    "\n",
    "df = pd.DataFrame(data)\n",
    "\n",
    "# Call the function to select rows based on conditions\n",
    "selected_df = select_rows(df)\n",
    "\n",
    "# Print the selected DataFrame\n",
    "print(selected_df)\n"
   ]
  },
  {
   "cell_type": "code",
   "execution_count": null,
   "id": "6a18b12e-f8d1-4293-aac6-5f015fb26881",
   "metadata": {},
   "outputs": [],
   "source": [
    "In this function:\n",
    "\n",
    "We use boolean indexing to select rows that meet the conditions specified in the question: 'A' greater than 5 and 'B' less than 10. The conditions are combined using the & (and) operator.\n",
    "\n",
    "The selected rows are assigned to the variable selected_rows.\n",
    "\n",
    "We return the selected_rows DataFrame."
   ]
  },
  {
   "cell_type": "code",
   "execution_count": null,
   "id": "aaedc32e-9666-407a-8cc3-732391cecb2a",
   "metadata": {},
   "outputs": [],
   "source": [
    "Q9. Given a Pandas DataFrame df with a column 'Values', write a Python function to calculate the mean,\n",
    "median, and standard deviation of the values in the 'Values' column."
   ]
  },
  {
   "cell_type": "code",
   "execution_count": null,
   "id": "ef1d93ed-93bc-4496-81e5-397cb3e01f10",
   "metadata": {},
   "outputs": [],
   "source": [
    "You can create a Python function to calculate the mean, median, and standard deviation of the values in the 'Values' column of a Pandas DataFrame. You can use Pandas DataFrame methods for these calculations. Here's how you can do it:"
   ]
  },
  {
   "cell_type": "code",
   "execution_count": 8,
   "id": "5f2f071e-02be-4ab7-af6c-f38f675adbd7",
   "metadata": {},
   "outputs": [
    {
     "name": "stdout",
     "output_type": "stream",
     "text": [
      "Mean: 30.0\n",
      "Median: 30.0\n",
      "Standard Deviation: 15.811388300841896\n"
     ]
    }
   ],
   "source": [
    "import pandas as pd\n",
    "\n",
    "def calculate_statistics(df):\n",
    "    # Calculate mean, median, and standard deviation\n",
    "    mean_value = df['Values'].mean()\n",
    "    median_value = df['Values'].median()\n",
    "    std_deviation = df['Values'].std()\n",
    "    \n",
    "    return mean_value, median_value, std_deviation\n",
    "\n",
    "# Example DataFrame\n",
    "data = {'Values': [10, 20, 30, 40, 50]}\n",
    "df = pd.DataFrame(data)\n",
    "\n",
    "# Call the function to calculate statistics\n",
    "mean, median, std_dev = calculate_statistics(df)\n",
    "\n",
    "# Print the calculated statistics\n",
    "print(\"Mean:\", mean)\n",
    "print(\"Median:\", median)\n",
    "print(\"Standard Deviation:\", std_dev)\n"
   ]
  },
  {
   "cell_type": "code",
   "execution_count": null,
   "id": "4b8fe657-1668-4fee-ae7a-2fe0acd5aff9",
   "metadata": {},
   "outputs": [],
   "source": [
    "In this function:\n",
    "\n",
    "We use df['Values'].mean() to calculate the mean of the values in the 'Values' column.\n",
    "\n",
    "We use df['Values'].median() to calculate the median of the values in the 'Values' column.\n",
    "\n",
    "We use df['Values'].std() to calculate the standard deviation of the values in the 'Values' column.\n",
    "\n",
    "We return the calculated mean, median, and standard deviation as a tuple."
   ]
  },
  {
   "cell_type": "code",
   "execution_count": null,
   "id": "45c7903e-0f9f-4549-8378-b884fa1c69bd",
   "metadata": {},
   "outputs": [],
   "source": [
    "Q10. Given a Pandas DataFrame df with a column 'Sales' and a column 'Date', write a Python function to\n",
    "create a new column 'MovingAverage' that contains the moving average of the sales for the past 7 days\n",
    "for each row in the DataFrame. The moving average should be calculated using a window of size 7 and\n",
    "should include the current day."
   ]
  },
  {
   "cell_type": "code",
   "execution_count": null,
   "id": "dd0c85d4-16e7-4e63-ab95-89824e96fbdd",
   "metadata": {},
   "outputs": [],
   "source": [
    "To create a new column 'MovingAverage' in a Pandas DataFrame that contains the moving average of the sales for the past 7 days for each row, you can use the rolling() method with a window size of 7 and then calculate the mean. Here's how you can do it"
   ]
  },
  {
   "cell_type": "code",
   "execution_count": 9,
   "id": "18bdf2bb-af5f-4094-b865-32d7881739d6",
   "metadata": {},
   "outputs": [
    {
     "name": "stdout",
     "output_type": "stream",
     "text": [
      "        Date  Sales  MovingAverage\n",
      "0 2023-09-01    100     100.000000\n",
      "1 2023-09-02    120     110.000000\n",
      "2 2023-09-03    130     116.666667\n",
      "3 2023-09-04    110     115.000000\n",
      "4 2023-09-05    140     120.000000\n",
      "5 2023-09-06    150     125.000000\n",
      "6 2023-09-07    160     130.000000\n"
     ]
    }
   ],
   "source": [
    "import pandas as pd\n",
    "\n",
    "def calculate_moving_average(df):\n",
    "    # Sort the DataFrame by the 'Date' column (assuming it's not already sorted)\n",
    "    df = df.sort_values(by='Date')\n",
    "\n",
    "    # Calculate the moving average with a window size of 7, including the current day\n",
    "    df['MovingAverage'] = df['Sales'].rolling(window=7, min_periods=1).mean()\n",
    "\n",
    "    return df\n",
    "\n",
    "# Example DataFrame\n",
    "data = {'Date': ['2023-09-01', '2023-09-02', '2023-09-03', '2023-09-04', '2023-09-05', '2023-09-06', '2023-09-07'],\n",
    "        'Sales': [100, 120, 130, 110, 140, 150, 160]}\n",
    "\n",
    "df = pd.DataFrame(data)\n",
    "\n",
    "# Convert the 'Date' column to datetime format (if it's not already)\n",
    "df['Date'] = pd.to_datetime(df['Date'])\n",
    "\n",
    "# Call the function to calculate the moving average\n",
    "df = calculate_moving_average(df)\n",
    "\n",
    "# Print the DataFrame with the 'MovingAverage' column\n",
    "print(df)\n"
   ]
  },
  {
   "cell_type": "code",
   "execution_count": null,
   "id": "ad9e07f9-88bb-44e9-8328-739a11762ca1",
   "metadata": {},
   "outputs": [],
   "source": [
    "In this function:\n",
    "\n",
    "We first ensure that the DataFrame is sorted by the 'Date' column because rolling calculations require data to be in chronological order.\n",
    "\n",
    "We use the rolling() method on the 'Sales' column with a window size of 7 (to include the current day) and min_periods=1 to calculate the rolling mean.\n",
    "\n",
    "The rolling mean is assigned to a new column 'MovingAverage' in the DataFrame.\n",
    "\n",
    "Finally, we return the modified DataFrame"
   ]
  },
  {
   "cell_type": "code",
   "execution_count": null,
   "id": "4ffb6dbf-ebb5-46a9-aef1-68ed990040f2",
   "metadata": {},
   "outputs": [],
   "source": [
    "Q11. You have a Pandas DataFrame df with a column 'Date'. Write a Python function that creates a new\n",
    "column 'Weekday' in the DataFrame. The 'Weekday' column should contain the weekday name (e.g.\n",
    "Monday, Tuesday) corresponding to each date in the 'Date' column.\n",
    "For example, if df contains the following values:\n",
    "Date\n",
    "0 2023-01-01\n",
    "1 2023-01-02\n",
    "2 2023-01-03\n",
    "3 2023-01-04\n",
    "4 2023-01-05\n",
    "Your function should create the following DataFrame:\n",
    "\n",
    "Date Weekday\n",
    "0 2023-01-01 Sunday\n",
    "1 2023-01-02 Monday\n",
    "2 2023-01-03 Tuesday\n",
    "3 2023-01-04 Wednesday\n",
    "4 2023-01-05 Thursday\n",
    "The function should return the modified DataFrame."
   ]
  },
  {
   "cell_type": "code",
   "execution_count": null,
   "id": "d67620cd-0e73-40b8-bb61-3fd55407d676",
   "metadata": {},
   "outputs": [],
   "source": [
    "To create a new column 'Weekday' in a Pandas DataFrame that contains the weekday name corresponding to each date in the 'Date' column, you can use the dt.strftime() method with the '%A' format code. Here's how you can do it:"
   ]
  },
  {
   "cell_type": "code",
   "execution_count": 10,
   "id": "e36de667-2936-4040-a158-c133a8a019e1",
   "metadata": {},
   "outputs": [
    {
     "name": "stdout",
     "output_type": "stream",
     "text": [
      "        Date    Weekday\n",
      "0 2023-01-01     Sunday\n",
      "1 2023-01-02     Monday\n",
      "2 2023-01-03    Tuesday\n",
      "3 2023-01-04  Wednesday\n",
      "4 2023-01-05   Thursday\n"
     ]
    }
   ],
   "source": [
    "import pandas as pd\n",
    "\n",
    "def add_weekday_column(df):\n",
    "    # Ensure the 'Date' column is in datetime format (if not already)\n",
    "    df['Date'] = pd.to_datetime(df['Date'])\n",
    "    \n",
    "    # Add a 'Weekday' column containing the weekday names\n",
    "    df['Weekday'] = df['Date'].dt.strftime('%A')\n",
    "\n",
    "    return df\n",
    "\n",
    "# Example DataFrame\n",
    "data = {'Date': ['2023-01-01', '2023-01-02', '2023-01-03', '2023-01-04', '2023-01-05']}\n",
    "df = pd.DataFrame(data)\n",
    "\n",
    "# Call the function to add the 'Weekday' column\n",
    "df = add_weekday_column(df)\n",
    "\n",
    "# Print the DataFrame with the 'Weekday' column\n",
    "print(df)\n"
   ]
  },
  {
   "cell_type": "code",
   "execution_count": null,
   "id": "aae1547f-68e3-4f36-a7ec-170624cf618e",
   "metadata": {},
   "outputs": [],
   "source": [
    "In this function:\n",
    "\n",
    "We first ensure that the 'Date' column is in datetime format using pd.to_datetime().\n",
    "\n",
    "We use the dt.strftime('%A') method to extract the weekday names from the 'Date' column and assign them to a new column 'Weekday' in the DataFrame.\n",
    "\n",
    "Finally, we return the modified DataFrame."
   ]
  },
  {
   "cell_type": "code",
   "execution_count": null,
   "id": "a7d1e6df-048d-4fe9-be2f-1bf30d544b5f",
   "metadata": {},
   "outputs": [],
   "source": [
    "Q12. Given a Pandas DataFrame df with a column 'Date' that contains timestamps, write a Python\n",
    "function to select all rows where the date is between '2023-01-01' and '2023-01-31'."
   ]
  },
  {
   "cell_type": "code",
   "execution_count": null,
   "id": "d6063d0a-327a-4e49-880f-576578ad2b3b",
   "metadata": {},
   "outputs": [],
   "source": [
    "To select all rows from a Pandas DataFrame where the date in the 'Date' column falls between '2023-01-01' and '2023-01-31', you can use the pd.to_datetime() function to convert the date strings to datetime objects and then use boolean indexing. Here's how you can do it:"
   ]
  },
  {
   "cell_type": "code",
   "execution_count": 11,
   "id": "4dd48259-d6e9-4049-9ba2-26c62fb06c32",
   "metadata": {},
   "outputs": [
    {
     "name": "stdout",
     "output_type": "stream",
     "text": [
      "        Date\n",
      "0 2023-01-01\n",
      "1 2023-01-15\n"
     ]
    }
   ],
   "source": [
    "import pandas as pd\n",
    "\n",
    "def select_rows_between_dates(df, start_date_str, end_date_str):\n",
    "    # Convert start_date_str and end_date_str to datetime objects\n",
    "    start_date = pd.to_datetime(start_date_str)\n",
    "    end_date = pd.to_datetime(end_date_str)\n",
    "    \n",
    "    # Ensure the 'Date' column is in datetime format (if not already)\n",
    "    df['Date'] = pd.to_datetime(df['Date'])\n",
    "    \n",
    "    # Create a boolean mask for rows between the specified dates\n",
    "    mask = (df['Date'] >= start_date) & (df['Date'] <= end_date)\n",
    "    \n",
    "    # Use the mask to select the rows\n",
    "    selected_rows = df[mask]\n",
    "\n",
    "    return selected_rows\n",
    "\n",
    "# Example DataFrame\n",
    "data = {'Date': ['2023-01-01', '2023-01-15', '2023-02-05', '2023-03-10']}\n",
    "df = pd.DataFrame(data)\n",
    "\n",
    "# Call the function to select rows between '2023-01-01' and '2023-01-31'\n",
    "selected_df = select_rows_between_dates(df, '2023-01-01', '2023-01-31')\n",
    "\n",
    "# Print the selected DataFrame\n",
    "print(selected_df)\n"
   ]
  },
  {
   "cell_type": "code",
   "execution_count": null,
   "id": "08694f10-2eaa-4868-a5cc-2a076157a7a8",
   "metadata": {},
   "outputs": [],
   "source": [
    "Q13. To use the basic functions of pandas, what is the first and foremost necessary library that needs to\n",
    "be imported?"
   ]
  },
  {
   "cell_type": "code",
   "execution_count": null,
   "id": "da746ce4-830e-4de8-bc9c-a581789e9d99",
   "metadata": {},
   "outputs": [],
   "source": []
  }
 ],
 "metadata": {
  "kernelspec": {
   "display_name": "Python 3 (ipykernel)",
   "language": "python",
   "name": "python3"
  },
  "language_info": {
   "codemirror_mode": {
    "name": "ipython",
    "version": 3
   },
   "file_extension": ".py",
   "mimetype": "text/x-python",
   "name": "python",
   "nbconvert_exporter": "python",
   "pygments_lexer": "ipython3",
   "version": "3.10.6"
  }
 },
 "nbformat": 4,
 "nbformat_minor": 5
}
